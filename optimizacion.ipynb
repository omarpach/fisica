{
 "cells": [
  {
   "cell_type": "code",
   "execution_count": 1,
   "id": "7e678e51",
   "metadata": {},
   "outputs": [
    {
     "name": "stdout",
     "output_type": "stream",
     "text": [
      "Requirement already satisfied: numpy in ./.venv/lib/python3.12/site-packages (2.3.1)\n",
      "Note: you may need to restart the kernel to use updated packages.\n",
      "Requirement already satisfied: scipy in ./.venv/lib/python3.12/site-packages (1.16.0)\n",
      "Requirement already satisfied: numpy<2.6,>=1.25.2 in ./.venv/lib/python3.12/site-packages (from scipy) (2.3.1)\n",
      "Note: you may need to restart the kernel to use updated packages.\n",
      "Requirement already satisfied: cma in ./.venv/lib/python3.12/site-packages (4.2.0)\n",
      "Requirement already satisfied: numpy in ./.venv/lib/python3.12/site-packages (from cma) (2.3.1)\n",
      "Note: you may need to restart the kernel to use updated packages.\n",
      "Requirement already satisfied: matplotlib in ./.venv/lib/python3.12/site-packages (3.10.3)\n",
      "Requirement already satisfied: contourpy>=1.0.1 in ./.venv/lib/python3.12/site-packages (from matplotlib) (1.3.2)\n",
      "Requirement already satisfied: cycler>=0.10 in ./.venv/lib/python3.12/site-packages (from matplotlib) (0.12.1)\n",
      "Requirement already satisfied: fonttools>=4.22.0 in ./.venv/lib/python3.12/site-packages (from matplotlib) (4.58.4)\n",
      "Requirement already satisfied: kiwisolver>=1.3.1 in ./.venv/lib/python3.12/site-packages (from matplotlib) (1.4.8)\n",
      "Requirement already satisfied: numpy>=1.23 in ./.venv/lib/python3.12/site-packages (from matplotlib) (2.3.1)\n",
      "Requirement already satisfied: packaging>=20.0 in ./.venv/lib/python3.12/site-packages (from matplotlib) (25.0)\n",
      "Requirement already satisfied: pillow>=8 in ./.venv/lib/python3.12/site-packages (from matplotlib) (11.2.1)\n",
      "Requirement already satisfied: pyparsing>=2.3.1 in ./.venv/lib/python3.12/site-packages (from matplotlib) (3.2.3)\n",
      "Requirement already satisfied: python-dateutil>=2.7 in ./.venv/lib/python3.12/site-packages (from matplotlib) (2.9.0.post0)\n",
      "Requirement already satisfied: six>=1.5 in ./.venv/lib/python3.12/site-packages (from python-dateutil>=2.7->matplotlib) (1.17.0)\n",
      "Note: you may need to restart the kernel to use updated packages.\n"
     ]
    }
   ],
   "source": [
    "# Install libraries\n",
    "%pip install numpy\n",
    "%pip install scipy\n",
    "%pip install cma\n",
    "%pip install matplotlib"
   ]
  },
  {
   "cell_type": "code",
   "execution_count": 2,
   "id": "fcfcb674",
   "metadata": {},
   "outputs": [],
   "source": [
    "# Import libraries\n",
    "import numpy as np\n",
    "from scipy.integrate import solve_ivp\n",
    "import matplotlib.pyplot as plt\n",
    "import cma\n",
    "from typing import Annotated\n",
    "import numpy.typing as npt"
   ]
  },
  {
   "cell_type": "code",
   "execution_count": 5,
   "id": "e28fceec",
   "metadata": {},
   "outputs": [],
   "source": [
    "Vector = Annotated[npt.NDArray[np.float64], (9,)]\n",
    "\n",
    "# Define system of differential equations\n",
    "def diff_eq_system(t: float, ini_conditions: Vector) -> Vector:\n",
    "    a, adot, phi, phidot, theta, thetadot, V_0, m3, nu = ini_conditions\n",
    "\n",
    "    if abs(a) > 1e200:\n",
    "        print(f\"Warning: a may overflow, a = {a}\")\n",
    "\n",
    "    if abs(adot) > 1e200:\n",
    "        print(f\"Warning: adot may overflow, adot = {a}\")\n",
    "\n",
    "    epsilon = 1e-18\n",
    "\n",
    "    # Safe powers and divisions using np.power\n",
    "    nu2 = np.power(nu, 2)\n",
    "\n",
    "    # Sum epsilon to avoid division by 0\n",
    "    safe_nu2 = nu2 + epsilon\n",
    "    safe_a = a + epsilon\n",
    "\n",
    "    phi2_over_nu2 = np.power(phi, 2) / safe_nu2\n",
    "    one_minus_phi2_over_nu2 = 1 - phi2_over_nu2\n",
    "    m3_cubed = np.power(m3, 3)\n",
    "\n",
    "    # Compute second derivatives with np\n",
    "    addot = (\n",
    "        a * (V_0 * np.power(one_minus_phi2_over_nu2, 2) + m3_cubed * theta)\n",
    "        - 2 * np.power(adot, 2) / safe_a\n",
    "    )\n",
    "\n",
    "    phiddot = (\n",
    "        2 * phi * V_0 / safe_nu2 * one_minus_phi2_over_nu2\n",
    "        - 3 * adot * phidot / safe_a\n",
    "    )\n",
    "\n",
    "    thetaddot = -2 * m3 - 3 * adot * thetadot / safe_a\n",
    "\n",
    "    result = np.array([adot, addot, phidot, phiddot, thetadot, thetaddot, V_0, m3, nu], dtype=np.float64)\n",
    "\n",
    "    if np.any(np.isnan(result)):\n",
    "        raise ValueError(\"NaN encountered in result, likely due to invalid input or division by zero.\")\n",
    "\n",
    "    return result\n",
    "\n",
    "# Define cost function to measure how good a solution is\n",
    "def cost(sol) -> float:\n",
    "    a_ratio = np.log(sol.y[0][-1] / sol.y[0][0])\n",
    "    return abs(a_ratio - 60)\n",
    "\n",
    "checkpoints = np.linspace(0, 1100, 1000)[::20]\n",
    "\n",
    "def verbose_diff_eq_system(t: float, ini_conditions: Vector) -> Vector:\n",
    "    result = diff_eq_system(t, ini_conditions)\n",
    "    if t in checkpoints:\n",
    "        print(f\"t = {t:.5f}\")\n",
    "    return result\n",
    "\n",
    "# Define objective function\n",
    "def objective(ini_conditions: Vector) -> float:\n",
    "    # ini_conditions = np.power(10.0, ini_conditions)\n",
    "    print(ini_conditions.dtype)\n",
    "    try:\n",
    "        sol = solve_ivp(\n",
    "            fun=diff_eq_system,\n",
    "            t_span=(0,2000),\n",
    "            y0=ini_conditions,\n",
    "            t_eval=np.linspace(0, 2000, 1000),\n",
    "            method=\"Radau\",\n",
    "            # max_step=1e-2,\n",
    "            # rtol=1e-8,\n",
    "            # atol=1e-10\n",
    "        )\n",
    "\n",
    "        if not sol.success:\n",
    "            return np.nan\n",
    "\n",
    "        return cost(sol)\n",
    "\n",
    "    except Exception as e:\n",
    "        return np.nan\n",
    "        print(\"Error:\", e)"
   ]
  },
  {
   "cell_type": "code",
   "execution_count": 6,
   "id": "f5fdccc3",
   "metadata": {},
   "outputs": [
    {
     "name": "stdout",
     "output_type": "stream",
     "text": [
      "float64\n",
      "nan\n"
     ]
    }
   ],
   "source": [
    "print(objective(np.array([1e-8, 0, 1, 1e-5, 0.1, 0, 1e-4, 1e-3, 1])))"
   ]
  },
  {
   "cell_type": "code",
   "execution_count": 16,
   "id": "f74c0127",
   "metadata": {},
   "outputs": [],
   "source": [
    "# Define cma callback function to stop when value is within tolerance\n",
    "class StopOnTarget:\n",
    "    def __init__(self, target):\n",
    "        self.target = target\n",
    "\n",
    "    def __call__(self, es):\n",
    "        if es.best.f < self.target:\n",
    "            print(f\"Early stop: f(x) = {es.best.f:.4e} < {self.target}\")\n",
    "            es.stop({\"target_f\": True})"
   ]
  },
  {
   "cell_type": "code",
   "execution_count": 56,
   "id": "87d5b0d0",
   "metadata": {},
   "outputs": [
    {
     "name": "stdout",
     "output_type": "stream",
     "text": [
      "(5_w,10)-aCMA-ES (mu_w=3.2,w_1=45%) in dimension 9 (seed=1043505, Thu Jun 26 09:29:23 2025)\n"
     ]
    },
    {
     "name": "stderr",
     "output_type": "stream",
     "text": [
      "/tmp/ipykernel_80887/3751651456.py:23: RuntimeWarning: overflow encountered in scalar multiply\n",
      "  - 2 * np.power(adot, 2) / safe_a\n",
      "/tmp/ipykernel_80887/3751651456.py:23: RuntimeWarning: overflow encountered in power\n",
      "  - 2 * np.power(adot, 2) / safe_a\n",
      "/home/dell_laptop/dev/fisica/.venv/lib/python3.12/site-packages/scipy/integrate/_ivp/rk.py:109: RuntimeWarning: invalid value encountered in divide\n",
      "  return norm(self._estimate_error(K, h) / scale)\n",
      "/home/dell_laptop/dev/fisica/.venv/lib/python3.12/site-packages/cma/utilities/utils.py:349: UserWarning:   999 solutions rejected (f-value NaN or None) at iteration 0 (time=Jun 26 09:31:35 2025)\n",
      "  warnings.warn(msg + ' (time={}'.format(time.asctime()[4:]) +\n",
      "/home/dell_laptop/dev/fisica/.venv/lib/python3.12/site-packages/cma/utilities/utils.py:349: UserWarning:   1999 solutions rejected (f-value NaN or None) at iteration 0 (time=Jun 26 09:34:46 2025)\n",
      "  warnings.warn(msg + ' (time={}'.format(time.asctime()[4:]) +\n"
     ]
    },
    {
     "ename": "KeyboardInterrupt",
     "evalue": "",
     "output_type": "error",
     "traceback": [
      "\u001b[31m---------------------------------------------------------------------------\u001b[39m",
      "\u001b[31mKeyboardInterrupt\u001b[39m                         Traceback (most recent call last)",
      "\u001b[36mCell\u001b[39m\u001b[36m \u001b[39m\u001b[32mIn[56]\u001b[39m\u001b[32m, line 20\u001b[39m\n\u001b[32m     17\u001b[39m lower_bounds = [-\u001b[32m12\u001b[39m] * \u001b[32m9\u001b[39m\n\u001b[32m     18\u001b[39m upper_bounds = [\u001b[32m3\u001b[39m] * \u001b[32m9\u001b[39m\n\u001b[32m---> \u001b[39m\u001b[32m20\u001b[39m result = \u001b[43mcma\u001b[49m\u001b[43m.\u001b[49m\u001b[43mfmin\u001b[49m\u001b[43m(\u001b[49m\u001b[43mobjective\u001b[49m\u001b[43m,\u001b[49m\u001b[43m \u001b[49m\u001b[43mx0\u001b[49m\u001b[43m,\u001b[49m\u001b[43m \u001b[49m\u001b[43msigma0\u001b[49m\u001b[43m,\u001b[49m\u001b[43m \u001b[49m\u001b[43mcallback\u001b[49m\u001b[43m=\u001b[49m\u001b[43mtarget_callback\u001b[49m\u001b[43m,\u001b[49m\u001b[43m \u001b[49m\u001b[43moptions\u001b[49m\u001b[43m=\u001b[49m\u001b[43m{\u001b[49m\n\u001b[32m     21\u001b[39m \u001b[43m    \u001b[49m\u001b[33;43m\"\u001b[39;49m\u001b[33;43mverb_disp\u001b[39;49m\u001b[33;43m\"\u001b[39;49m\u001b[43m:\u001b[49m\u001b[43m \u001b[49m\u001b[32;43m1\u001b[39;49m\u001b[43m,\u001b[49m\n\u001b[32m     22\u001b[39m \u001b[43m    \u001b[49m\u001b[33;43m\"\u001b[39;49m\u001b[33;43mbounds\u001b[39;49m\u001b[33;43m\"\u001b[39;49m\u001b[43m:\u001b[49m\u001b[43m \u001b[49m\u001b[43m[\u001b[49m\u001b[43mlower_bounds\u001b[49m\u001b[43m,\u001b[49m\u001b[43m \u001b[49m\u001b[43mupper_bounds\u001b[49m\u001b[43m]\u001b[49m\n\u001b[32m     23\u001b[39m \u001b[43m}\u001b[49m\u001b[43m)\u001b[49m\n\u001b[32m     25\u001b[39m \u001b[38;5;28mprint\u001b[39m(\u001b[33m\"\u001b[39m\u001b[33mBest solution:\u001b[39m\u001b[33m\"\u001b[39m, result[\u001b[32m0\u001b[39m])\n\u001b[32m     26\u001b[39m \u001b[38;5;28mprint\u001b[39m(\u001b[33m\"\u001b[39m\u001b[33mObjective value:\u001b[39m\u001b[33m\"\u001b[39m, result[\u001b[32m1\u001b[39m])\n",
      "\u001b[36mFile \u001b[39m\u001b[32m~/dev/fisica/.venv/lib/python3.12/site-packages/cma/evolution_strategy.py:4229\u001b[39m, in \u001b[36mfmin\u001b[39m\u001b[34m(objective_function, x0, sigma0, options, args, gradf, restarts, restart_from_best, incpopsize, eval_initial_x, parallel_objective, noise_handler, noise_change_sigma_exponent, noise_kappa_exponent, bipop, callback, init_callback)\u001b[39m\n\u001b[32m   4226\u001b[39m \u001b[38;5;28;01mif\u001b[39;00m \u001b[32m1\u001b[39m < \u001b[32m3\u001b[39m:\n\u001b[32m   4227\u001b[39m     \u001b[38;5;28;01mwhile\u001b[39;00m \u001b[38;5;129;01mnot\u001b[39;00m es.stop():  \u001b[38;5;66;03m# iteration loop\u001b[39;00m\n\u001b[32m   4228\u001b[39m         \u001b[38;5;66;03m# X, fit = eval_in_parallel(lambda: es.ask(1)[0], es.popsize, args, repetitions=noisehandler.evaluations-1)\u001b[39;00m\n\u001b[32m-> \u001b[39m\u001b[32m4229\u001b[39m         X, fit = \u001b[43mes\u001b[49m\u001b[43m.\u001b[49m\u001b[43mask_and_eval\u001b[49m\u001b[43m(\u001b[49m\u001b[43mparallel_objective\u001b[49m\u001b[43m \u001b[49m\u001b[38;5;129;43;01mor\u001b[39;49;00m\u001b[43m \u001b[49m\u001b[43mobjective_function\u001b[49m\u001b[43m,\u001b[49m\n\u001b[32m   4230\u001b[39m \u001b[43m                                 \u001b[49m\u001b[43margs\u001b[49m\u001b[43m,\u001b[49m\u001b[43m \u001b[49m\u001b[43mgradf\u001b[49m\u001b[43m=\u001b[49m\u001b[43mgradf\u001b[49m\u001b[43m,\u001b[49m\n\u001b[32m   4231\u001b[39m \u001b[43m                                 \u001b[49m\u001b[43mevaluations\u001b[49m\u001b[43m=\u001b[49m\u001b[43mnoisehandler\u001b[49m\u001b[43m.\u001b[49m\u001b[43mevaluations\u001b[49m\u001b[43m,\u001b[49m\n\u001b[32m   4232\u001b[39m \u001b[43m                                 \u001b[49m\u001b[43maggregation\u001b[49m\u001b[43m=\u001b[49m\u001b[43mnp\u001b[49m\u001b[43m.\u001b[49m\u001b[43mmedian\u001b[49m\u001b[43m,\u001b[49m\n\u001b[32m   4233\u001b[39m \u001b[43m                                 \u001b[49m\u001b[43mparallel_mode\u001b[49m\u001b[43m=\u001b[49m\u001b[43mparallel_objective\u001b[49m\u001b[43m)\u001b[49m  \u001b[38;5;66;03m# treats NaN with resampling if not parallel_mode\u001b[39;00m\n\u001b[32m   4234\u001b[39m         \u001b[38;5;66;03m# TODO: check args and in case use args=(noisehandler.evaluations, )\u001b[39;00m\n\u001b[32m   4236\u001b[39m         \u001b[38;5;28;01mif\u001b[39;00m \u001b[32m11\u001b[39m < \u001b[32m3\u001b[39m \u001b[38;5;129;01mand\u001b[39;00m opts[\u001b[33m'\u001b[39m\u001b[33mvv\u001b[39m\u001b[33m'\u001b[39m]:  \u001b[38;5;66;03m# inject a solution\u001b[39;00m\n\u001b[32m   4237\u001b[39m             \u001b[38;5;66;03m# use option check_point = [0]\u001b[39;00m\n",
      "\u001b[36mFile \u001b[39m\u001b[32m~/dev/fisica/.venv/lib/python3.12/site-packages/cma/evolution_strategy.py:1919\u001b[39m, in \u001b[36mCMAEvolutionStrategy.ask_and_eval\u001b[39m\u001b[34m(self, func, args, gradf, number, xmean, sigma_fac, evaluations, aggregation, kappa, parallel_mode)\u001b[39m\n\u001b[32m   1915\u001b[39m     length_normalizer = \u001b[38;5;28mself\u001b[39m.N**\u001b[32m0.5\u001b[39m / \u001b[38;5;28mself\u001b[39m.mahalanobis_norm(x - xmean)  \u001b[38;5;66;03m# self.const.chiN < N**0.5, the constant here is irrelevant (absorbed by kappa)\u001b[39;00m\n\u001b[32m   1916\u001b[39m     \u001b[38;5;66;03m# print(self.N**0.5 / self.mahalanobis_norm(x - xmean))\u001b[39;00m\n\u001b[32m   1917\u001b[39m     \u001b[38;5;66;03m# self.more_to_write += [length_normalizer * 1e-3, length_normalizer * self.mahalanobis_norm(x - xmean) * 1e2]\u001b[39;00m\n\u001b[32m-> \u001b[39m\u001b[32m1919\u001b[39m f = \u001b[43mfunc\u001b[49m\u001b[43m(\u001b[49m\u001b[43mx\u001b[49m\u001b[43m,\u001b[49m\u001b[43m \u001b[49m\u001b[43m*\u001b[49m\u001b[43margs\u001b[49m\u001b[43m)\u001b[49m \u001b[38;5;28;01mif\u001b[39;00m kappa == \u001b[32m1\u001b[39m \u001b[38;5;28;01melse\u001b[39;00m \\\n\u001b[32m   1920\u001b[39m     func(xmean + kappa * length_normalizer * (x - xmean),\n\u001b[32m   1921\u001b[39m          *args)\n\u001b[32m   1922\u001b[39m \u001b[38;5;28;01mif\u001b[39;00m is_feasible(x, f) \u001b[38;5;129;01mand\u001b[39;00m evaluations > \u001b[32m1\u001b[39m:\n\u001b[32m   1923\u001b[39m     f = aggregation([f] + [(func(x, *args) \u001b[38;5;28;01mif\u001b[39;00m kappa == \u001b[32m1\u001b[39m \u001b[38;5;28;01melse\u001b[39;00m\n\u001b[32m   1924\u001b[39m                             func(xmean + kappa * length_normalizer * (x - xmean), *args))\n\u001b[32m   1925\u001b[39m                            \u001b[38;5;28;01mfor\u001b[39;00m _i \u001b[38;5;129;01min\u001b[39;00m \u001b[38;5;28mrange\u001b[39m(\u001b[38;5;28mint\u001b[39m(evaluations - \u001b[32m1\u001b[39m))])\n",
      "\u001b[36mCell\u001b[39m\u001b[36m \u001b[39m\u001b[32mIn[55]\u001b[39m\u001b[32m, line 57\u001b[39m, in \u001b[36mobjective\u001b[39m\u001b[34m(ini_conditions)\u001b[39m\n\u001b[32m     55\u001b[39m ini_conditions = np.power(\u001b[32m10.0\u001b[39m, ini_conditions)\n\u001b[32m     56\u001b[39m \u001b[38;5;28;01mtry\u001b[39;00m:\n\u001b[32m---> \u001b[39m\u001b[32m57\u001b[39m     sol = \u001b[43msolve_ivp\u001b[49m\u001b[43m(\u001b[49m\n\u001b[32m     58\u001b[39m \u001b[43m        \u001b[49m\u001b[43mfun\u001b[49m\u001b[43m=\u001b[49m\u001b[43mdiff_eq_system\u001b[49m\u001b[43m,\u001b[49m\n\u001b[32m     59\u001b[39m \u001b[43m        \u001b[49m\u001b[43mt_span\u001b[49m\u001b[43m=\u001b[49m\u001b[43m(\u001b[49m\u001b[32;43m0\u001b[39;49m\u001b[43m,\u001b[49m\u001b[32;43m1100\u001b[39;49m\u001b[43m)\u001b[49m\u001b[43m,\u001b[49m\n\u001b[32m     60\u001b[39m \u001b[43m        \u001b[49m\u001b[43my0\u001b[49m\u001b[43m=\u001b[49m\u001b[43mini_conditions\u001b[49m\u001b[43m,\u001b[49m\n\u001b[32m     61\u001b[39m \u001b[43m        \u001b[49m\u001b[43mt_eval\u001b[49m\u001b[43m=\u001b[49m\u001b[43mnp\u001b[49m\u001b[43m.\u001b[49m\u001b[43mlinspace\u001b[49m\u001b[43m(\u001b[49m\u001b[32;43m0\u001b[39;49m\u001b[43m,\u001b[49m\u001b[43m \u001b[49m\u001b[32;43m1100\u001b[39;49m\u001b[43m,\u001b[49m\u001b[43m \u001b[49m\u001b[32;43m1000\u001b[39;49m\u001b[43m)\u001b[49m\u001b[43m,\u001b[49m\n\u001b[32m     62\u001b[39m \u001b[43m        \u001b[49m\u001b[43mmethod\u001b[49m\u001b[43m=\u001b[49m\u001b[33;43m\"\u001b[39;49m\u001b[33;43mRK45\u001b[39;49m\u001b[33;43m\"\u001b[39;49m\u001b[43m,\u001b[49m\n\u001b[32m     63\u001b[39m \u001b[43m        \u001b[49m\u001b[38;5;66;43;03m# max_step=1e-2,\u001b[39;49;00m\n\u001b[32m     64\u001b[39m \u001b[43m        \u001b[49m\u001b[38;5;66;43;03m# rtol=1e-8,\u001b[39;49;00m\n\u001b[32m     65\u001b[39m \u001b[43m        \u001b[49m\u001b[38;5;66;43;03m# atol=1e-10\u001b[39;49;00m\n\u001b[32m     66\u001b[39m \u001b[43m    \u001b[49m\u001b[43m)\u001b[49m\n\u001b[32m     68\u001b[39m     \u001b[38;5;28;01mif\u001b[39;00m \u001b[38;5;129;01mnot\u001b[39;00m sol.success:\n\u001b[32m     69\u001b[39m         \u001b[38;5;28;01mreturn\u001b[39;00m np.nan\n",
      "\u001b[36mFile \u001b[39m\u001b[32m~/dev/fisica/.venv/lib/python3.12/site-packages/scipy/integrate/_ivp/ivp.py:655\u001b[39m, in \u001b[36msolve_ivp\u001b[39m\u001b[34m(fun, t_span, y0, method, t_eval, dense_output, events, vectorized, args, **options)\u001b[39m\n\u001b[32m    653\u001b[39m status = \u001b[38;5;28;01mNone\u001b[39;00m\n\u001b[32m    654\u001b[39m \u001b[38;5;28;01mwhile\u001b[39;00m status \u001b[38;5;129;01mis\u001b[39;00m \u001b[38;5;28;01mNone\u001b[39;00m:\n\u001b[32m--> \u001b[39m\u001b[32m655\u001b[39m     message = \u001b[43msolver\u001b[49m\u001b[43m.\u001b[49m\u001b[43mstep\u001b[49m\u001b[43m(\u001b[49m\u001b[43m)\u001b[49m\n\u001b[32m    657\u001b[39m     \u001b[38;5;28;01mif\u001b[39;00m solver.status == \u001b[33m'\u001b[39m\u001b[33mfinished\u001b[39m\u001b[33m'\u001b[39m:\n\u001b[32m    658\u001b[39m         status = \u001b[32m0\u001b[39m\n",
      "\u001b[36mFile \u001b[39m\u001b[32m~/dev/fisica/.venv/lib/python3.12/site-packages/scipy/integrate/_ivp/base.py:197\u001b[39m, in \u001b[36mOdeSolver.step\u001b[39m\u001b[34m(self)\u001b[39m\n\u001b[32m    195\u001b[39m \u001b[38;5;28;01melse\u001b[39;00m:\n\u001b[32m    196\u001b[39m     t = \u001b[38;5;28mself\u001b[39m.t\n\u001b[32m--> \u001b[39m\u001b[32m197\u001b[39m     success, message = \u001b[38;5;28;43mself\u001b[39;49m\u001b[43m.\u001b[49m\u001b[43m_step_impl\u001b[49m\u001b[43m(\u001b[49m\u001b[43m)\u001b[49m\n\u001b[32m    199\u001b[39m     \u001b[38;5;28;01mif\u001b[39;00m \u001b[38;5;129;01mnot\u001b[39;00m success:\n\u001b[32m    200\u001b[39m         \u001b[38;5;28mself\u001b[39m.status = \u001b[33m'\u001b[39m\u001b[33mfailed\u001b[39m\u001b[33m'\u001b[39m\n",
      "\u001b[36mFile \u001b[39m\u001b[32m~/dev/fisica/.venv/lib/python3.12/site-packages/scipy/integrate/_ivp/rk.py:144\u001b[39m, in \u001b[36mRungeKutta._step_impl\u001b[39m\u001b[34m(self)\u001b[39m\n\u001b[32m    141\u001b[39m h = t_new - t\n\u001b[32m    142\u001b[39m h_abs = np.abs(h)\n\u001b[32m--> \u001b[39m\u001b[32m144\u001b[39m y_new, f_new = \u001b[43mrk_step\u001b[49m\u001b[43m(\u001b[49m\u001b[38;5;28;43mself\u001b[39;49m\u001b[43m.\u001b[49m\u001b[43mfun\u001b[49m\u001b[43m,\u001b[49m\u001b[43m \u001b[49m\u001b[43mt\u001b[49m\u001b[43m,\u001b[49m\u001b[43m \u001b[49m\u001b[43my\u001b[49m\u001b[43m,\u001b[49m\u001b[43m \u001b[49m\u001b[38;5;28;43mself\u001b[39;49m\u001b[43m.\u001b[49m\u001b[43mf\u001b[49m\u001b[43m,\u001b[49m\u001b[43m \u001b[49m\u001b[43mh\u001b[49m\u001b[43m,\u001b[49m\u001b[43m \u001b[49m\u001b[38;5;28;43mself\u001b[39;49m\u001b[43m.\u001b[49m\u001b[43mA\u001b[49m\u001b[43m,\u001b[49m\n\u001b[32m    145\u001b[39m \u001b[43m                       \u001b[49m\u001b[38;5;28;43mself\u001b[39;49m\u001b[43m.\u001b[49m\u001b[43mB\u001b[49m\u001b[43m,\u001b[49m\u001b[43m \u001b[49m\u001b[38;5;28;43mself\u001b[39;49m\u001b[43m.\u001b[49m\u001b[43mC\u001b[49m\u001b[43m,\u001b[49m\u001b[43m \u001b[49m\u001b[38;5;28;43mself\u001b[39;49m\u001b[43m.\u001b[49m\u001b[43mK\u001b[49m\u001b[43m)\u001b[49m\n\u001b[32m    146\u001b[39m scale = atol + np.maximum(np.abs(y), np.abs(y_new)) * rtol\n\u001b[32m    147\u001b[39m error_norm = \u001b[38;5;28mself\u001b[39m._estimate_error_norm(\u001b[38;5;28mself\u001b[39m.K, h, scale)\n",
      "\u001b[36mFile \u001b[39m\u001b[32m~/dev/fisica/.venv/lib/python3.12/site-packages/scipy/integrate/_ivp/rk.py:64\u001b[39m, in \u001b[36mrk_step\u001b[39m\u001b[34m(fun, t, y, f, h, A, B, C, K)\u001b[39m\n\u001b[32m     62\u001b[39m \u001b[38;5;28;01mfor\u001b[39;00m s, (a, c) \u001b[38;5;129;01min\u001b[39;00m \u001b[38;5;28menumerate\u001b[39m(\u001b[38;5;28mzip\u001b[39m(A[\u001b[32m1\u001b[39m:], C[\u001b[32m1\u001b[39m:]), start=\u001b[32m1\u001b[39m):\n\u001b[32m     63\u001b[39m     dy = np.dot(K[:s].T, a[:s]) * h\n\u001b[32m---> \u001b[39m\u001b[32m64\u001b[39m     K[s] = \u001b[43mfun\u001b[49m\u001b[43m(\u001b[49m\u001b[43mt\u001b[49m\u001b[43m \u001b[49m\u001b[43m+\u001b[49m\u001b[43m \u001b[49m\u001b[43mc\u001b[49m\u001b[43m \u001b[49m\u001b[43m*\u001b[49m\u001b[43m \u001b[49m\u001b[43mh\u001b[49m\u001b[43m,\u001b[49m\u001b[43m \u001b[49m\u001b[43my\u001b[49m\u001b[43m \u001b[49m\u001b[43m+\u001b[49m\u001b[43m \u001b[49m\u001b[43mdy\u001b[49m\u001b[43m)\u001b[49m\n\u001b[32m     66\u001b[39m y_new = y + h * np.dot(K[:-\u001b[32m1\u001b[39m].T, B)\n\u001b[32m     67\u001b[39m f_new = fun(t + h, y_new)\n",
      "\u001b[36mFile \u001b[39m\u001b[32m~/dev/fisica/.venv/lib/python3.12/site-packages/scipy/integrate/_ivp/base.py:154\u001b[39m, in \u001b[36mOdeSolver.__init__.<locals>.fun\u001b[39m\u001b[34m(t, y)\u001b[39m\n\u001b[32m    152\u001b[39m \u001b[38;5;28;01mdef\u001b[39;00m\u001b[38;5;250m \u001b[39m\u001b[34mfun\u001b[39m(t, y):\n\u001b[32m    153\u001b[39m     \u001b[38;5;28mself\u001b[39m.nfev += \u001b[32m1\u001b[39m\n\u001b[32m--> \u001b[39m\u001b[32m154\u001b[39m     \u001b[38;5;28;01mreturn\u001b[39;00m \u001b[38;5;28;43mself\u001b[39;49m\u001b[43m.\u001b[49m\u001b[43mfun_single\u001b[49m\u001b[43m(\u001b[49m\u001b[43mt\u001b[49m\u001b[43m,\u001b[49m\u001b[43m \u001b[49m\u001b[43my\u001b[49m\u001b[43m)\u001b[49m\n",
      "\u001b[36mFile \u001b[39m\u001b[32m~/dev/fisica/.venv/lib/python3.12/site-packages/scipy/integrate/_ivp/base.py:23\u001b[39m, in \u001b[36mcheck_arguments.<locals>.fun_wrapped\u001b[39m\u001b[34m(t, y)\u001b[39m\n\u001b[32m     22\u001b[39m \u001b[38;5;28;01mdef\u001b[39;00m\u001b[38;5;250m \u001b[39m\u001b[34mfun_wrapped\u001b[39m(t, y):\n\u001b[32m---> \u001b[39m\u001b[32m23\u001b[39m     \u001b[38;5;28;01mreturn\u001b[39;00m np.asarray(\u001b[43mfun\u001b[49m\u001b[43m(\u001b[49m\u001b[43mt\u001b[49m\u001b[43m,\u001b[49m\u001b[43m \u001b[49m\u001b[43my\u001b[49m\u001b[43m)\u001b[49m, dtype=dtype)\n",
      "\u001b[36mCell\u001b[39m\u001b[36m \u001b[39m\u001b[32mIn[55]\u001b[39m\u001b[32m, line 23\u001b[39m, in \u001b[36mdiff_eq_system\u001b[39m\u001b[34m(t, ini_conditions)\u001b[39m\n\u001b[32m     18\u001b[39m m3_cubed = np.power(m3, \u001b[32m3\u001b[39m)\n\u001b[32m     20\u001b[39m \u001b[38;5;66;03m# Compute second derivatives with np\u001b[39;00m\n\u001b[32m     21\u001b[39m addot = (\n\u001b[32m     22\u001b[39m     a * (V_0 * np.power(one_minus_phi2_over_nu2, \u001b[32m2\u001b[39m) + m3_cubed * theta)\n\u001b[32m---> \u001b[39m\u001b[32m23\u001b[39m     - \u001b[32m2\u001b[39m * \u001b[43mnp\u001b[49m\u001b[43m.\u001b[49m\u001b[43mpower\u001b[49m\u001b[43m(\u001b[49m\u001b[43madot\u001b[49m\u001b[43m,\u001b[49m\u001b[43m \u001b[49m\u001b[32;43m2\u001b[39;49m\u001b[43m)\u001b[49m / safe_a\n\u001b[32m     24\u001b[39m )\n\u001b[32m     26\u001b[39m phiddot = (\n\u001b[32m     27\u001b[39m     \u001b[32m2\u001b[39m * phi * V_0 / safe_nu2 * one_minus_phi2_over_nu2\n\u001b[32m     28\u001b[39m     - \u001b[32m3\u001b[39m * adot * phidot / safe_a\n\u001b[32m     29\u001b[39m )\n\u001b[32m     31\u001b[39m thetaddot = -\u001b[32m2\u001b[39m * m3 - \u001b[32m3\u001b[39m * adot * thetadot / safe_a\n",
      "\u001b[31mKeyboardInterrupt\u001b[39m: "
     ]
    }
   ],
   "source": [
    "# Find optimal initial conditions\n",
    "\n",
    "# Initial guess and step size\n",
    "x0: Vector = np.array([\n",
    "    -9, # a0\n",
    "    0, # adot0\n",
    "    1, # phi0\n",
    "    1, # phidot0\n",
    "    1, # theta0\n",
    "    1, # thetadot0\n",
    "    -9, # V_0\n",
    "    -9, # m3\n",
    "    1, # nu\n",
    "], dtype=np.float64)\n",
    "sigma0 = 1.0\n",
    "target_callback = StopOnTarget(3)\n",
    "lower_bounds = [-12] * 9\n",
    "upper_bounds = [3] * 9\n",
    "\n",
    "result = cma.fmin(objective, x0, sigma0, callback=target_callback, options={\n",
    "    \"verb_disp\": 1,\n",
    "    \"bounds\": [lower_bounds, upper_bounds]\n",
    "})\n",
    "\n",
    "print(\"Best solution:\", result[0])\n",
    "print(\"Objective value:\", result[1])"
   ]
  },
  {
   "cell_type": "code",
   "execution_count": 49,
   "id": "2fe46ddb",
   "metadata": {},
   "outputs": [
    {
     "name": "stdout",
     "output_type": "stream",
     "text": [
      "verb_append → suggested usage: initial evaluation counter, if append, do not overwrite output files\n",
      "verb_disp → suggested usage: v verbosity: display console output every verb_disp iteration\n",
      "verb_disp_overwrite → suggested usage: v start overwriting after given iteration\n",
      "verb_filenameprefix → suggested usage: output path (folder) and filenames prefix\n",
      "verb_log → suggested usage: v verbosity: write data to files every verb_log iteration, writing can be time critical on fast to evaluate functions\n",
      "verb_log_expensive → suggested usage: allow to execute eigendecomposition for logging every verb_log_expensive iteration, 0 or False for never\n",
      "verb_plot → suggested usage: v in fmin2(): plot() is called every verb_plot iteration\n",
      "verb_time → suggested usage: v output timings on console\n",
      "verbose → suggested usage: v verbosity e.g. of initial/final message, -1 is very quiet, -9 maximally quiet, may not be fully implemented\n"
     ]
    }
   ],
   "source": [
    "import re\n",
    "verbosity_options = cma.CMAOptions('verb')\n",
    "\n",
    "for key, desc in verbosity_options.items():\n",
    "    match = re.search(r'#\\s*(.*)', desc)\n",
    "    comment = match.group(1) if match else ''\n",
    "    print(f\"{key} → suggested usage: {comment}\")\n"
   ]
  }
 ],
 "metadata": {
  "kernelspec": {
   "display_name": ".venv",
   "language": "python",
   "name": "python3"
  },
  "language_info": {
   "codemirror_mode": {
    "name": "ipython",
    "version": 3
   },
   "file_extension": ".py",
   "mimetype": "text/x-python",
   "name": "python",
   "nbconvert_exporter": "python",
   "pygments_lexer": "ipython3",
   "version": "3.12.3"
  }
 },
 "nbformat": 4,
 "nbformat_minor": 5
}
